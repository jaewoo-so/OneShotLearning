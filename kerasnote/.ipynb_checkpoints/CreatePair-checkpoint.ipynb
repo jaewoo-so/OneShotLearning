{
 "cells": [
  {
   "cell_type": "markdown",
   "metadata": {},
   "source": [
    "### Create All Possible Pair\n",
    "\n",
    "+ x1 = [1,2] \n",
    "+ x2 = [a,b]\n",
    "\n",
    "+ pair = [1,a],[1,b],[2,a],[2,b] for label 1 \n",
    "+ pair = [1,2],[a,b] for label 0"
   ]
  },
  {
   "cell_type": "code",
   "execution_count": 1,
   "metadata": {},
   "outputs": [],
   "source": [
    "import os\n",
    "import glob \n",
    "import numpy as np\n"
   ]
  },
  {
   "cell_type": "code",
   "execution_count": 15,
   "metadata": {},
   "outputs": [
    {
     "data": {
      "text/plain": [
       "array([2, 1, 0])"
      ]
     },
     "execution_count": 15,
     "metadata": {},
     "output_type": "execute_result"
    }
   ],
   "source": [
    "sample = ['a','b','c','d']\n",
    "np.random.choice(4, 3 , replace = False)"
   ]
  },
  {
   "cell_type": "code",
   "execution_count": 17,
   "metadata": {},
   "outputs": [
    {
     "name": "stdout",
     "output_type": "stream",
     "text": [
      "../data/Ex1/TrainSet\\0 [] ['0675_01.png', '0675_02.png', '0675_03.png', '0675_04.png', '0675_05.png', '0675_06.png', '0675_07.png', '0675_08.png', '0675_09.png', '0675_10.png', '0675_11.png', '0675_12.png', '0675_13.png', '0675_14.png', '0675_15.png', '0675_16.png', '0675_17.png', '0675_18.png', '0675_19.png', '0675_20.png']\n",
      "../data/Ex1/TrainSet\\1 [] ['0676_01.png', '0676_02.png', '0676_03.png', '0676_04.png', '0676_05.png', '0676_06.png', '0676_07.png', '0676_08.png', '0676_09.png', '0676_10.png', '0676_11.png', '0676_12.png', '0676_13.png', '0676_14.png', '0676_15.png', '0676_16.png', '0676_17.png', '0676_18.png', '0676_19.png', '0676_20.png']\n",
      "../data/Ex1/TrainSet\\2 [] ['0677_01.png', '0677_02.png', '0677_03.png', '0677_04.png', '0677_05.png', '0677_06.png', '0677_07.png', '0677_08.png', '0677_09.png', '0677_10.png', '0677_11.png', '0677_12.png', '0677_13.png', '0677_14.png', '0677_15.png', '0677_16.png', '0677_17.png', '0677_18.png', '0677_19.png', '0677_20.png']\n"
     ]
    }
   ],
   "source": [
    "rootpath = \"../data/Ex1/TrainSet\"\n",
    "\n",
    "labelList = {}\n",
    "\n",
    "for root , subs , files in os.walk(rootpath):\n",
    "    if len(files) == 0:\n",
    "        continue # 여기서 클래스 종류별 맵핑이 가능하다. \n",
    "    for name in files:\n",
    "        filepath = os.path.join(root,name)\n",
    "        label = root.split('\\')[-1]\n",
    "                           \n",
    "        \n",
    "    "
   ]
  },
  {
   "cell_type": "code",
   "execution_count": null,
   "metadata": {},
   "outputs": [],
   "source": []
  }
 ],
 "metadata": {
  "kernelspec": {
   "display_name": "Python [conda env:tf]",
   "language": "python",
   "name": "conda-env-tf-py"
  },
  "language_info": {
   "codemirror_mode": {
    "name": "ipython",
    "version": 3
   },
   "file_extension": ".py",
   "mimetype": "text/x-python",
   "name": "python",
   "nbconvert_exporter": "python",
   "pygments_lexer": "ipython3",
   "version": "3.5.4"
  }
 },
 "nbformat": 4,
 "nbformat_minor": 2
}

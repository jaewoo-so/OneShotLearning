{
 "cells": [
  {
   "cell_type": "code",
   "execution_count": 1,
   "metadata": {},
   "outputs": [
    {
     "name": "stderr",
     "output_type": "stream",
     "text": [
      "Using TensorFlow backend.\n"
     ]
    }
   ],
   "source": [
    "from keras.applications import mobilenet\n",
    "from keras import layers , losses , optimizers , models \n",
    "import numpy as np\n",
    "from functools import reduce"
   ]
  },
  {
   "cell_type": "code",
   "execution_count": 2,
   "metadata": {},
   "outputs": [],
   "source": [
    "class SimpleModel:\n",
    "    def __init__(self):\n",
    "        self.l1 = layers.Conv2D(64 , (3,3) , activation = 'elu' , padding = 'same')\n",
    "        self.l2 = layers.MaxPooling2D((2,2))\n",
    "        self.l3 = layers.BatchNormalization()\n",
    "        self.l4 = layers.Conv2D(32 , (3,3) , activation = 'elu' , padding = 'same')\n",
    "        self.l5 = layers.MaxPooling2D((2,2))\n",
    "        self.l6 = layers.BatchNormalization()\n",
    "        self.l7 = layers.Flatten()\n",
    "        self.l8 = layers.Dense(32 , activation = 'relu' )\n",
    "        self.layers = [l1,l2,l3,l4,l5,l6,l7,l8]\n",
    "        \n",
    "    def Build(self,input):\n",
    "        alllist = [input ] + self.layers\n",
    "        net = reduce(lambda f,s : s(f))\n",
    "        return net"
   ]
  },
  {
   "cell_type": "markdown",
   "metadata": {},
   "source": [
    "#### Load Jason , Create Image data"
   ]
  },
  {
   "cell_type": "code",
   "execution_count": 3,
   "metadata": {},
   "outputs": [],
   "source": [
    "import json\n",
    "samepath = \"same.json\"\n",
    "diffpath = \"diff.json\""
   ]
  },
  {
   "cell_type": "code",
   "execution_count": 11,
   "metadata": {},
   "outputs": [],
   "source": [
    "samedict = None \n",
    "diffdata = None\n",
    "\n",
    "with open(samepath , 'r') as f:\n",
    "    samedict = json.load(f)\n",
    "with open(diffpath , 'r') as f:\n",
    "    diffdata = json.load(f)"
   ]
  },
  {
   "cell_type": "code",
   "execution_count": 15,
   "metadata": {},
   "outputs": [],
   "source": [
    "samedata = samedict['0'] + samedict['1'] + samedict['2'] \n",
    "samelabel = np.zeros(len(samedata)).tolist()\n",
    "\n",
    "difflabel = np.ones(len(diffdata)).tolist()"
   ]
  },
  {
   "cell_type": "code",
   "execution_count": 16,
   "metadata": {},
   "outputs": [],
   "source": [
    "datas = samedata + diffdata\n",
    "labels = samelabel + difflabel "
   ]
  },
  {
   "cell_type": "code",
   "execution_count": 19,
   "metadata": {},
   "outputs": [
    {
     "name": "stdout",
     "output_type": "stream",
     "text": [
      "datas len = 1770 , labels len = 1770\n"
     ]
    }
   ],
   "source": [
    "print('datas len = {} , labels len = {}'.format(len(datas) , len(labels)))\n"
   ]
  },
  {
   "cell_type": "code",
   "execution_count": 20,
   "metadata": {},
   "outputs": [
    {
     "data": {
      "text/plain": [
       "2"
      ]
     },
     "execution_count": 20,
     "metadata": {},
     "output_type": "execute_result"
    }
   ],
   "source": [
    "len(datas[0])"
   ]
  },
  {
   "cell_type": "code",
   "execution_count": null,
   "metadata": {},
   "outputs": [],
   "source": []
  }
 ],
 "metadata": {
  "kernelspec": {
   "display_name": "Python [conda env:tf]",
   "language": "python",
   "name": "conda-env-tf-py"
  },
  "language_info": {
   "codemirror_mode": {
    "name": "ipython",
    "version": 3
   },
   "file_extension": ".py",
   "mimetype": "text/x-python",
   "name": "python",
   "nbconvert_exporter": "python",
   "pygments_lexer": "ipython3",
   "version": "3.6.5"
  }
 },
 "nbformat": 4,
 "nbformat_minor": 2
}

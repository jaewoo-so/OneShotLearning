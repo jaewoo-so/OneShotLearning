{
 "cells": [
  {
   "cell_type": "markdown",
   "metadata": {},
   "source": [
    "### Create All Possible Pair\n",
    "\n",
    "+ x1 = [1,2] \n",
    "+ x2 = [a,b]\n",
    "\n",
    "+ pair = [1,a],[1,b],[2,a],[2,b] for label 1 \n",
    "+ pair = [1,2],[a,b] for label 0"
   ]
  },
  {
   "cell_type": "code",
   "execution_count": 1,
   "metadata": {},
   "outputs": [
    {
     "data": {
      "text/plain": [
       "'D:\\\\00_Bio\\\\OneShotLearning\\\\kerasnote'"
      ]
     },
     "execution_count": 1,
     "metadata": {},
     "output_type": "execute_result"
    }
   ],
   "source": [
    "pwd"
   ]
  },
  {
   "cell_type": "code",
   "execution_count": 2,
   "metadata": {},
   "outputs": [],
   "source": [
    "import os\n",
    "import glob \n",
    "import numpy as np\n",
    "from typing import List\n",
    "import functools\n",
    "from itertools import *\n",
    "import cv2\n",
    "import pprint\n",
    "import json\n",
    "\n",
    "pp = pprint.PrettyPrinter(indent=4)"
   ]
  },
  {
   "cell_type": "code",
   "execution_count": 3,
   "metadata": {},
   "outputs": [],
   "source": [
    "def read_pairImg(dict):\n",
    "    outputlist = []\n",
    "    for cls in dict:\n",
    "        for pair in dict[cls]:\n",
    "            img1 = cv2.imread(pair[0],0)\n",
    "            img2 = cv2.imread(pair[1],0)\n",
    "            outputlist.append([img1,img2])\n",
    "    return outputlist\n",
    "\n",
    "def writejson(path,file):\n",
    "    with open(path,'w') as f:\n",
    "        json.dump(file,f)\n",
    "        \n",
    "def readjson(path):\n",
    "    return json.load(open(path,'r'))\n",
    "        "
   ]
  },
  {
   "cell_type": "code",
   "execution_count": 4,
   "metadata": {},
   "outputs": [],
   "source": [
    "rootpath = \"../data/Ex1/TrainSet\"\n",
    "rootpath = rootpath.replace('/','\\\\')\n",
    "\n",
    "labelList = []\n",
    "filePathList = []\n",
    "for root , subs , files in os.walk(rootpath):\n",
    "    if len(files) == 0:\n",
    "        continue # 여기서 클래스 종류별 맵핑이 가능하다. \n",
    "    for name in files:\n",
    "        filepath = os.path.join(root,name)\n",
    "        label = root.split('\\\\')[-1]\n",
    "        labelList.append(label)\n",
    "        filePathList.append(filepath)"
   ]
  },
  {
   "cell_type": "code",
   "execution_count": 5,
   "metadata": {},
   "outputs": [],
   "source": [
    "# split eeach class data\n",
    "nb_class = list(set(labelList))\n",
    "nb_class = list(map(lambda x : int(x) , nb_class))\n",
    "dataContainer = {}\n",
    "for i_class in nb_class:\n",
    "    filtered = list(filter(lambda x : int(x[0]) == i_class , zip(labelList, filePathList)))\n",
    "    dataContainer[i_class] = [x[1] for x in filtered]\n",
    "    "
   ]
  },
  {
   "cell_type": "code",
   "execution_count": 8,
   "metadata": {},
   "outputs": [
    {
     "name": "stdout",
     "output_type": "stream",
     "text": [
      "{   0: [   '..\\\\data\\\\Ex1\\\\TrainSet\\\\0\\\\0675_01.png',\n",
      "           '..\\\\data\\\\Ex1\\\\TrainSet\\\\0\\\\0675_02.png',\n",
      "           '..\\\\data\\\\Ex1\\\\TrainSet\\\\0\\\\0675_03.png',\n",
      "           '..\\\\data\\\\Ex1\\\\TrainSet\\\\0\\\\0675_04.png',\n",
      "           '..\\\\data\\\\Ex1\\\\TrainSet\\\\0\\\\0675_05.png',\n",
      "           '..\\\\data\\\\Ex1\\\\TrainSet\\\\0\\\\0675_06.png',\n",
      "           '..\\\\data\\\\Ex1\\\\TrainSet\\\\0\\\\0675_07.png',\n",
      "           '..\\\\data\\\\Ex1\\\\TrainSet\\\\0\\\\0675_08.png',\n",
      "           '..\\\\data\\\\Ex1\\\\TrainSet\\\\0\\\\0675_09.png',\n",
      "           '..\\\\data\\\\Ex1\\\\TrainSet\\\\0\\\\0675_10.png',\n",
      "           '..\\\\data\\\\Ex1\\\\TrainSet\\\\0\\\\0675_11.png',\n",
      "           '..\\\\data\\\\Ex1\\\\TrainSet\\\\0\\\\0675_12.png',\n",
      "           '..\\\\data\\\\Ex1\\\\TrainSet\\\\0\\\\0675_13.png',\n",
      "           '..\\\\data\\\\Ex1\\\\TrainSet\\\\0\\\\0675_14.png',\n",
      "           '..\\\\data\\\\Ex1\\\\TrainSet\\\\0\\\\0675_15.png',\n",
      "           '..\\\\data\\\\Ex1\\\\TrainSet\\\\0\\\\0675_16.png',\n",
      "           '..\\\\data\\\\Ex1\\\\TrainSet\\\\0\\\\0675_17.png',\n",
      "           '..\\\\data\\\\Ex1\\\\TrainSet\\\\0\\\\0675_18.png',\n",
      "           '..\\\\data\\\\Ex1\\\\TrainSet\\\\0\\\\0675_19.png',\n",
      "           '..\\\\data\\\\Ex1\\\\TrainSet\\\\0\\\\0675_20.png'],\n",
      "    1: [   '..\\\\data\\\\Ex1\\\\TrainSet\\\\1\\\\0676_01.png',\n",
      "           '..\\\\data\\\\Ex1\\\\TrainSet\\\\1\\\\0676_02.png',\n",
      "           '..\\\\data\\\\Ex1\\\\TrainSet\\\\1\\\\0676_03.png',\n",
      "           '..\\\\data\\\\Ex1\\\\TrainSet\\\\1\\\\0676_04.png',\n",
      "           '..\\\\data\\\\Ex1\\\\TrainSet\\\\1\\\\0676_05.png',\n",
      "           '..\\\\data\\\\Ex1\\\\TrainSet\\\\1\\\\0676_06.png',\n",
      "           '..\\\\data\\\\Ex1\\\\TrainSet\\\\1\\\\0676_07.png',\n",
      "           '..\\\\data\\\\Ex1\\\\TrainSet\\\\1\\\\0676_08.png',\n",
      "           '..\\\\data\\\\Ex1\\\\TrainSet\\\\1\\\\0676_09.png',\n",
      "           '..\\\\data\\\\Ex1\\\\TrainSet\\\\1\\\\0676_10.png',\n",
      "           '..\\\\data\\\\Ex1\\\\TrainSet\\\\1\\\\0676_11.png',\n",
      "           '..\\\\data\\\\Ex1\\\\TrainSet\\\\1\\\\0676_12.png',\n",
      "           '..\\\\data\\\\Ex1\\\\TrainSet\\\\1\\\\0676_13.png',\n",
      "           '..\\\\data\\\\Ex1\\\\TrainSet\\\\1\\\\0676_14.png',\n",
      "           '..\\\\data\\\\Ex1\\\\TrainSet\\\\1\\\\0676_15.png',\n",
      "           '..\\\\data\\\\Ex1\\\\TrainSet\\\\1\\\\0676_16.png',\n",
      "           '..\\\\data\\\\Ex1\\\\TrainSet\\\\1\\\\0676_17.png',\n",
      "           '..\\\\data\\\\Ex1\\\\TrainSet\\\\1\\\\0676_18.png',\n",
      "           '..\\\\data\\\\Ex1\\\\TrainSet\\\\1\\\\0676_19.png',\n",
      "           '..\\\\data\\\\Ex1\\\\TrainSet\\\\1\\\\0676_20.png'],\n",
      "    2: [   '..\\\\data\\\\Ex1\\\\TrainSet\\\\2\\\\0677_01.png',\n",
      "           '..\\\\data\\\\Ex1\\\\TrainSet\\\\2\\\\0677_02.png',\n",
      "           '..\\\\data\\\\Ex1\\\\TrainSet\\\\2\\\\0677_03.png',\n",
      "           '..\\\\data\\\\Ex1\\\\TrainSet\\\\2\\\\0677_04.png',\n",
      "           '..\\\\data\\\\Ex1\\\\TrainSet\\\\2\\\\0677_05.png',\n",
      "           '..\\\\data\\\\Ex1\\\\TrainSet\\\\2\\\\0677_06.png',\n",
      "           '..\\\\data\\\\Ex1\\\\TrainSet\\\\2\\\\0677_07.png',\n",
      "           '..\\\\data\\\\Ex1\\\\TrainSet\\\\2\\\\0677_08.png',\n",
      "           '..\\\\data\\\\Ex1\\\\TrainSet\\\\2\\\\0677_09.png',\n",
      "           '..\\\\data\\\\Ex1\\\\TrainSet\\\\2\\\\0677_10.png',\n",
      "           '..\\\\data\\\\Ex1\\\\TrainSet\\\\2\\\\0677_11.png',\n",
      "           '..\\\\data\\\\Ex1\\\\TrainSet\\\\2\\\\0677_12.png',\n",
      "           '..\\\\data\\\\Ex1\\\\TrainSet\\\\2\\\\0677_13.png',\n",
      "           '..\\\\data\\\\Ex1\\\\TrainSet\\\\2\\\\0677_14.png',\n",
      "           '..\\\\data\\\\Ex1\\\\TrainSet\\\\2\\\\0677_15.png',\n",
      "           '..\\\\data\\\\Ex1\\\\TrainSet\\\\2\\\\0677_16.png',\n",
      "           '..\\\\data\\\\Ex1\\\\TrainSet\\\\2\\\\0677_17.png',\n",
      "           '..\\\\data\\\\Ex1\\\\TrainSet\\\\2\\\\0677_18.png',\n",
      "           '..\\\\data\\\\Ex1\\\\TrainSet\\\\2\\\\0677_19.png',\n",
      "           '..\\\\data\\\\Ex1\\\\TrainSet\\\\2\\\\0677_20.png']}\n"
     ]
    }
   ],
   "source": [
    "pp.pprint(dataContainer)"
   ]
  },
  {
   "cell_type": "code",
   "execution_count": 6,
   "metadata": {},
   "outputs": [],
   "source": [
    "# Start Create Same Class Data ,  nC2\n",
    "\n",
    "pair_same = {}\n",
    "\n",
    "for k,v in dataContainer.items():\n",
    "    pair_same[k] = list(combinations(v,2))\n",
    "    \n",
    "writejson(\"same.json\",pair_same)"
   ]
  },
  {
   "cell_type": "code",
   "execution_count": 14,
   "metadata": {},
   "outputs": [],
   "source": [
    "#pp.pprint(pair_same[1])\n",
    "sameimglist = []\n",
    "for cls in pair_same:\n",
    "    for pair in pair_same[cls]:\n",
    "        img1 = cv2.imread(pair[0],0)\n",
    "        img2 = cv2.imread(pair[1],0)\n",
    "        sameimglist.append([img1,img2])\n"
   ]
  },
  {
   "cell_type": "code",
   "execution_count": 10,
   "metadata": {},
   "outputs": [],
   "source": [
    "# start Creaete Not Same Class Data\n",
    "pair_diff = []\n",
    "ClassPair = list( combinations( nb_class , 2) )\n",
    "\n",
    "for combi in ClassPair:\n",
    "    pair_diff.append(list(product(dataContainer[1],dataContainer[combi[1]])))\n",
    "    #print(len(pair_diff[combi]))\n",
    "    \n",
    "from functools import reduce\n",
    "\n",
    "pair_diff_list = reduce(lambda f,s : f + s,pair_diff)\n",
    "\n",
    "writejson(\"diff.json\",pair_diff_list)"
   ]
  },
  {
   "cell_type": "code",
   "execution_count": 12,
   "metadata": {},
   "outputs": [
    {
     "data": {
      "text/plain": [
       "1200"
      ]
     },
     "execution_count": 12,
     "metadata": {},
     "output_type": "execute_result"
    }
   ],
   "source": [
    "len(pair_diff_list)\n"
   ]
  },
  {
   "cell_type": "code",
   "execution_count": null,
   "metadata": {},
   "outputs": [],
   "source": []
  }
 ],
 "metadata": {
  "kernelspec": {
   "display_name": "Python [conda env:tf]",
   "language": "python",
   "name": "conda-env-tf-py"
  },
  "language_info": {
   "codemirror_mode": {
    "name": "ipython",
    "version": 3
   },
   "file_extension": ".py",
   "mimetype": "text/x-python",
   "name": "python",
   "nbconvert_exporter": "python",
   "pygments_lexer": "ipython3",
   "version": "3.6.5"
  }
 },
 "nbformat": 4,
 "nbformat_minor": 2
}

{
 "cells": [
  {
   "cell_type": "markdown",
   "metadata": {},
   "source": [
    "## Prepare Data"
   ]
  },
  {
   "cell_type": "code",
   "execution_count": 1,
   "metadata": {},
   "outputs": [
    {
     "name": "stdout",
     "output_type": "stream",
     "text": [
      "190\n",
      "190\n",
      "190\n"
     ]
    }
   ],
   "source": [
    "import os\n",
    "import glob \n",
    "import numpy as np\n",
    "from typing import List\n",
    "import functools\n",
    "from itertools import *\n",
    "import pprint\n",
    "\n",
    "pp = pprint.PrettyPrinter(indent=4)\n",
    "\n",
    "rootpath = \"../data/Ex1/TrainSet\"\n",
    "\n",
    "# data definition\n",
    "labelList = []\n",
    "filePathList = []\n",
    "nb_class = None\n",
    "dataContainer = None\n",
    "pair_same = None\n",
    "pair_diff = None\n",
    "ClassPair = None\n",
    "\n",
    "for root , subs , files in os.walk(rootpath):\n",
    "    if len(files) == 0:\n",
    "        continue # 여기서 클래스 종류별 맵핑이 가능하다. \n",
    "    for name in files:\n",
    "        filepath = os.path.join(root,name)\n",
    "        label = root.split('\\\\')[-1]\n",
    "        labelList.append(label)\n",
    "        filePathList.append(filepath)\n",
    "        \n",
    "        \n",
    "# split eeach class data\n",
    "nb_class = list(set(labelList))\n",
    "nb_class = list(map(lambda x : int(x) , nb_class))\n",
    "dataContainer = {}\n",
    "for i_class in nb_class:\n",
    "    filtered = list(filter(lambda x : int(x[0]) == i_class , zip(labelList, filePathList)))\n",
    "    dataContainer[i_class] = [x[1] for x in filtered]\n",
    "    \n",
    "# Start Create Same Class Data ,  nC2\n",
    "\n",
    "pair_same = {}\n",
    "\n",
    "for k,v in dataContainer.items():\n",
    "    pair_same[k] = list(combinations(v,2))\n",
    "    pp.pprint(len(pair_same[k]))\n",
    "    \n",
    "# start Creaete Not Same Class Data\n",
    "pair_diff = {}\n",
    "ClassPair = list( combinations( nb_class , 2) )\n",
    "\n",
    "for combi in ClassPair:\n",
    "    pair_diff[combi] = list(product(dataContainer[1],dataContainer[combi[1]]))"
   ]
  },
  {
   "cell_type": "code",
   "execution_count": null,
   "metadata": {},
   "outputs": [],
   "source": []
  },
  {
   "cell_type": "markdown",
   "metadata": {},
   "source": [
    "# Create Data Path to Image Data"
   ]
  },
  {
   "cell_type": "code",
   "execution_count": 14,
   "metadata": {},
   "outputs": [
    {
     "name": "stdout",
     "output_type": "stream",
     "text": [
      "('../data/Ex1/TrainSet\\\\2\\\\0677_01.png', '../data/Ex1/TrainSet\\\\2\\\\0677_02.png')\n",
      "('../data/Ex1/TrainSet\\\\2\\\\0677_01.png', '../data/Ex1/TrainSet\\\\2\\\\0677_03.png')\n"
     ]
    },
    {
     "ename": "TypeError",
     "evalue": "bad argument type for built-in operation",
     "output_type": "error",
     "traceback": [
      "\u001b[1;31m---------------------------------------------------------------------------\u001b[0m",
      "\u001b[1;31mTypeError\u001b[0m                                 Traceback (most recent call last)",
      "\u001b[1;32m<ipython-input-14-edbd9be598c3>\u001b[0m in \u001b[0;36m<module>\u001b[1;34m()\u001b[0m\n\u001b[0;32m     18\u001b[0m \u001b[0mlb_diff\u001b[0m \u001b[1;33m=\u001b[0m \u001b[0mnp\u001b[0m\u001b[1;33m.\u001b[0m\u001b[0mones\u001b[0m\u001b[1;33m(\u001b[0m\u001b[0mlen\u001b[0m\u001b[1;33m(\u001b[0m\u001b[0mpair_diff\u001b[0m\u001b[1;33m)\u001b[0m\u001b[1;33m)\u001b[0m\u001b[1;33m\u001b[0m\u001b[0m\n\u001b[0;32m     19\u001b[0m \u001b[1;33m\u001b[0m\u001b[0m\n\u001b[1;32m---> 20\u001b[1;33m \u001b[0mdata_same\u001b[0m \u001b[1;33m=\u001b[0m \u001b[0mpair2Img\u001b[0m\u001b[1;33m(\u001b[0m\u001b[0mpair_same\u001b[0m\u001b[1;33m)\u001b[0m\u001b[1;33m\u001b[0m\u001b[0m\n\u001b[0m\u001b[0;32m     21\u001b[0m \u001b[0mdata_diff\u001b[0m \u001b[1;33m=\u001b[0m \u001b[0mpair2Img\u001b[0m\u001b[1;33m(\u001b[0m\u001b[0mpair_diff\u001b[0m\u001b[1;33m)\u001b[0m\u001b[1;33m\u001b[0m\u001b[0m\n\u001b[0;32m     22\u001b[0m \u001b[1;33m\u001b[0m\u001b[0m\n",
      "\u001b[1;32m<ipython-input-14-edbd9be598c3>\u001b[0m in \u001b[0;36mpair2Img\u001b[1;34m(pairList)\u001b[0m\n\u001b[0;32m      9\u001b[0m         \u001b[0mprint\u001b[0m\u001b[1;33m(\u001b[0m\u001b[0mposPath\u001b[0m\u001b[1;33m)\u001b[0m\u001b[1;33m\u001b[0m\u001b[0m\n\u001b[0;32m     10\u001b[0m \u001b[1;33m\u001b[0m\u001b[0m\n\u001b[1;32m---> 11\u001b[1;33m         \u001b[0manchor_img\u001b[0m \u001b[1;33m=\u001b[0m \u001b[0mcv2\u001b[0m\u001b[1;33m.\u001b[0m\u001b[0mimread\u001b[0m\u001b[1;33m(\u001b[0m\u001b[0manchorPath\u001b[0m\u001b[1;33m)\u001b[0m\u001b[1;33m\u001b[0m\u001b[0m\n\u001b[0m\u001b[0;32m     12\u001b[0m         \u001b[0mpos_img\u001b[0m \u001b[1;33m=\u001b[0m \u001b[0mcv2\u001b[0m\u001b[1;33m.\u001b[0m\u001b[0mimread\u001b[0m\u001b[1;33m(\u001b[0m\u001b[0mposPath\u001b[0m\u001b[1;33m)\u001b[0m\u001b[1;33m\u001b[0m\u001b[0m\n\u001b[0;32m     13\u001b[0m \u001b[1;33m\u001b[0m\u001b[0m\n",
      "\u001b[1;31mTypeError\u001b[0m: bad argument type for built-in operation"
     ]
    }
   ],
   "source": [
    "import cv2\n",
    "\n",
    "def pair2Img(pairList):\n",
    "    dataList = []\n",
    "    for k,pair in pairList.items():\n",
    "        anchorPath = pair[0]\n",
    "        posPath = pair[1]\n",
    "        print(anchorPath)\n",
    "        print(posPath)\n",
    "    \n",
    "        anchor_img = cv2.imread(anchorPath.replace('/'))\n",
    "        pos_img = cv2.imread(posPath)\n",
    "    \n",
    "        dataList.append([anchor_img,pos_img]) \n",
    "    return dataList\n",
    "\n",
    "lb_same = np.zeros(len(pair_same))\n",
    "lb_diff = np.ones(len(pair_diff))\n",
    "\n",
    "data_same = pair2Img(pair_same)\n",
    "data_diff = pair2Img(pair_diff)\n",
    "\n",
    "print(data_same[1])"
   ]
  },
  {
   "cell_type": "code",
   "execution_count": null,
   "metadata": {},
   "outputs": [],
   "source": []
  }
 ],
 "metadata": {
  "kernelspec": {
   "display_name": "Python [conda env:tf18]",
   "language": "python",
   "name": "conda-env-tf18-py"
  },
  "language_info": {
   "codemirror_mode": {
    "name": "ipython",
    "version": 3
   },
   "file_extension": ".py",
   "mimetype": "text/x-python",
   "name": "python",
   "nbconvert_exporter": "python",
   "pygments_lexer": "ipython3",
   "version": "3.6.5"
  }
 },
 "nbformat": 4,
 "nbformat_minor": 2
}

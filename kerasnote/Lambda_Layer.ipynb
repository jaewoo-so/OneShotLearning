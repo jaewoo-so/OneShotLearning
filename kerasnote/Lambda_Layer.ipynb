{
 "cells": [
  {
   "cell_type": "markdown",
   "metadata": {},
   "source": [
    "## Lambda Layer\n",
    "- Lambda(lambda x : function)의 형식\n",
    "- x 는 이전 레이어 전체를 말한다. \n",
    "- 만약 element wise 를 하고 싶으면 아래처럼 backend.map_fn 을 이용하면 된다. "
   ]
  },
  {
   "cell_type": "code",
   "execution_count": 7,
   "metadata": {},
   "outputs": [
    {
     "data": {
      "text/plain": [
       "'\\ndef inverse(x):\\n    return x * -1.\\nrel2 = layers.Lambda(lambda x : K.map_fn(inverse ,x ))(l) \\nrel3 = layers.Lambda(lambda x : K.map_fn(lambda y : y * -1 ,x ))(l) \\n'"
      ]
     },
     "execution_count": 7,
     "metadata": {},
     "output_type": "execute_result"
    }
   ],
   "source": [
    "'''\n",
    "def inverse(x):\n",
    "    return x * -1.\n",
    "rel2 = layers.Lambda(lambda x : K.map_fn(inverse ,x ))(l) \n",
    "rel3 = layers.Lambda(lambda x : K.map_fn(lambda y : y * -1 ,x ))(l) \n",
    "'''"
   ]
  },
  {
   "cell_type": "code",
   "execution_count": 1,
   "metadata": {},
   "outputs": [
    {
     "name": "stderr",
     "output_type": "stream",
     "text": [
      "C:\\Anaconda3\\envs\\tf\\lib\\site-packages\\h5py\\__init__.py:36: FutureWarning: Conversion of the second argument of issubdtype from `float` to `np.floating` is deprecated. In future, it will be treated as `np.float64 == np.dtype(float).type`.\n",
      "  from ._conv import register_converters as _register_converters\n",
      "Using TensorFlow backend.\n"
     ]
    }
   ],
   "source": [
    "from keras import layers\n",
    "from keras import models , optimizers , losses\n",
    "from keras import initializers\n",
    "import numpy as np\n",
    "from keras import backend as K"
   ]
  },
  {
   "cell_type": "code",
   "execution_count": 2,
   "metadata": {},
   "outputs": [],
   "source": [
    "x = [[1,2,3],[4,5,6]]\n",
    "xx =[[10,20,30],[40,50,60]]\n",
    "\n",
    "x = np.asarray(x)\n",
    "xx = np.asarray(xx)\n",
    "y = [0,1]\n"
   ]
  },
  {
   "cell_type": "code",
   "execution_count": 6,
   "metadata": {},
   "outputs": [
    {
     "name": "stdout",
     "output_type": "stream",
     "text": [
      "result\n",
      "[[28.973614]\n",
      " [80.5121  ]] [[-28.973614]\n",
      " [-80.5121  ]] [[-28.973614]\n",
      " [-80.5121  ]]\n"
     ]
    }
   ],
   "source": [
    "# 모든 엘리먼트들에게 -1을 곱하는 레이어\n",
    "def inverse(x):\n",
    "    return x * -1.\n",
    "\n",
    "\n",
    "\n",
    "input1 = layers.Input(shape = (3,) )\n",
    "l = layers.Dense( 1 , kernel_initializer = initializers.RandomUniform(0,1) )(input1)\n",
    "\n",
    "rel2 = layers.Lambda(lambda x : K.map_fn(inverse ,x ))(l) \n",
    "rel3 = layers.Lambda(lambda x : K.map_fn(lambda y : y * -1 ,x ))(l) \n",
    "\n",
    "\n",
    "model = models.Model(inputs = input1 , outputs = [l,rel2,rel3])\n",
    "model.compile(loss='binary_crossentropy', optimizer='adam', metrics=['accuracy'])\n",
    "#res = model1.fit(x,y,epochs = 2 , )\n",
    "\n",
    "res = model.predict(xx)\n",
    "\n",
    "print(\"result\")\n",
    "print(res[0] , res[1] , res[2])\n"
   ]
  },
  {
   "cell_type": "code",
   "execution_count": 4,
   "metadata": {},
   "outputs": [
    {
     "name": "stdout",
     "output_type": "stream",
     "text": [
      "result\n",
      "[[-30.283611]\n",
      " [-67.67304 ]]\n",
      "[[-30.283611]\n",
      " [-67.67304 ]]\n"
     ]
    }
   ],
   "source": [
    "# 모든 엘리먼트들에게 -1을 곱하고, 다른 레이어 결과를 빼는 방법\n",
    "def inverse(x):\n",
    "    return x * -1.\n",
    "\n",
    "input1 = layers.Input(shape = (3,) )\n",
    "input2 = layers.Input(shape = (3,) )\n",
    "input3 = layers.Input(shape = (3,))\n",
    "\n",
    "l = layers.Dense( 1 , kernel_initializer = initializers.RandomUniform(0,1) )\n",
    "rel2 = layers.Lambda(lambda x : K.map_fn(inverse ,x )) \n",
    "\n",
    "output1 = l(input1)\n",
    "output2 = rel2(l(input2))\n",
    "output3 = l(input2)\n",
    "\n",
    "using_add = layers.add([output1,output2])\n",
    "using_substract = layers.subtract([output1,output3])\n",
    "\n",
    "\n",
    "model = models.Model(inputs = [input1,input2,input3] , outputs = [using_add,using_substract])\n",
    "model.compile(loss='binary_crossentropy', optimizer='adam', metrics=['accuracy'])\n",
    "#res = model1.fit(x,y,epochs = 2 , )\n",
    "\n",
    "res = model.predict([x,xx,x])\n",
    "\n",
    "print(\"result\")\n",
    "print(res[0])\n",
    "print(res[1])\n",
    "\n"
   ]
  },
  {
   "cell_type": "code",
   "execution_count": 5,
   "metadata": {},
   "outputs": [
    {
     "name": "stdout",
     "output_type": "stream",
     "text": [
      "result\n",
      "[[23.463171 33.40927 ]\n",
      " [59.93864  75.5981  ]] [[-23.463171 -33.40927 ]\n",
      " [-59.93864  -75.5981  ]] [[ 568.7244]\n",
      " [1355.3674]]\n"
     ]
    }
   ],
   "source": [
    "# Lambda 레이어에 기존 빌트인 레이어 섞는 방법\n",
    "# 모든 엘리먼트들에게 -1을 곱하는 레이어\n",
    "def inverse(x):\n",
    "    return x * -1.\n",
    "\n",
    "input1 = layers.Input(shape = (3,) )\n",
    "l = layers.Dense( 2 , kernel_initializer = initializers.RandomUniform(0,1) )(input1)\n",
    "\n",
    "rel2 = layers.Lambda(lambda x : K.map_fn(inverse ,x ))(l) \n",
    "\n",
    "# rel2 의 결과는 [a,b] 형식인데 여기에 10*(a+b) 가 결과값으로 나온다. \n",
    "rel3 = layers.Lambda(lambda x : layers.Dense( 1 , kernel_initializer = initializers.Constant(10) )(x))(l) \n",
    "\n",
    "\n",
    "model = models.Model(inputs = input1 , outputs = [l,rel2,rel3])\n",
    "model.compile(loss='binary_crossentropy', optimizer='adam', metrics=['accuracy'])\n",
    "#res = model1.fit(x,y,epochs = 2 , )\n",
    "\n",
    "res = model.predict(xx)\n",
    "\n",
    "print(\"result\")\n",
    "print(res[0] , res[1] , res[2])\n"
   ]
  },
  {
   "cell_type": "code",
   "execution_count": null,
   "metadata": {},
   "outputs": [],
   "source": []
  },
  {
   "cell_type": "code",
   "execution_count": null,
   "metadata": {},
   "outputs": [],
   "source": []
  }
 ],
 "metadata": {
  "kernelspec": {
   "display_name": "Python [conda env:tf]",
   "language": "python",
   "name": "conda-env-tf-py"
  },
  "language_info": {
   "codemirror_mode": {
    "name": "ipython",
    "version": 3
   },
   "file_extension": ".py",
   "mimetype": "text/x-python",
   "name": "python",
   "nbconvert_exporter": "python",
   "pygments_lexer": "ipython3",
   "version": "3.5.4"
  }
 },
 "nbformat": 4,
 "nbformat_minor": 2
}

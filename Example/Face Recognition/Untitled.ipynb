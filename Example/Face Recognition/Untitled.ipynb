{
 "cells": [
  {
   "cell_type": "code",
   "execution_count": 3,
   "metadata": {},
   "outputs": [
    {
     "name": "stderr",
     "output_type": "stream",
     "text": [
      "c:\\anaconda3\\envs\\tf\\lib\\site-packages\\h5py\\__init__.py:36: FutureWarning: Conversion of the second argument of issubdtype from `float` to `np.floating` is deprecated. In future, it will be treated as `np.float64 == np.dtype(float).type`.\n",
      "  from ._conv import register_converters as _register_converters\n"
     ]
    }
   ],
   "source": [
    "import tensorflow as tf"
   ]
  },
  {
   "cell_type": "code",
   "execution_count": 4,
   "metadata": {},
   "outputs": [],
   "source": [
    "x = [[1,2,3],[10,20,30]]\n",
    "x2 = [[0,0,1],[1,2,3]]"
   ]
  },
  {
   "cell_type": "code",
   "execution_count": 5,
   "metadata": {},
   "outputs": [],
   "source": [
    "temp1 = tf.constant(x)\n",
    "temp2 = tf.constant(x2)"
   ]
  },
  {
   "cell_type": "code",
   "execution_count": 6,
   "metadata": {},
   "outputs": [],
   "source": [
    "res1 = temp1 - temp2\n",
    "res2 = tf.subtract(temp1 , temp2)\n",
    "res3 = tf.reduce_sum(res1 , axis = 1)\n",
    "res4 = tf.reduce_sum(res1 , axis = 0)"
   ]
  },
  {
   "cell_type": "code",
   "execution_count": 7,
   "metadata": {},
   "outputs": [
    {
     "name": "stdout",
     "output_type": "stream",
     "text": [
      "[[ 1  2  2]\n",
      " [ 9 18 27]]\n",
      "[[ 1  2  2]\n",
      " [ 9 18 27]]\n",
      "[ 5 54]\n",
      "[10 20 29]\n"
     ]
    }
   ],
   "source": [
    "with tf.Session() as sess:\n",
    "    sess.run(tf.global_variables_initializer())\n",
    "    r1,r2,r3,r4 = sess.run([res1,res2,res3,res4])\n",
    "    print(r1)\n",
    "    print(r2)\n",
    "    print(r3)\n",
    "    print(r4)"
   ]
  },
  {
   "cell_type": "markdown",
   "metadata": {},
   "source": [
    "---\n",
    "### Triplet Losdd Teset"
   ]
  },
  {
   "cell_type": "code",
   "execution_count": 8,
   "metadata": {},
   "outputs": [],
   "source": [
    "def triplet_loss2(y_pred, alpha = 0.2): \n",
    "    anchor, positive, negative = y_pred[0], y_pred[1], y_pred[2]\n",
    "    \n",
    "    pos_dist1 = tf.reduce_sum( tf.square( anchor - positive) , axis = 1)    \n",
    "    neg_dist1 = tf.reduce_sum(tf.square(anchor - negative) , axis = 1)\n",
    "    basic_loss1 = tf.add( tf.subtract(pos_dist1 , neg_dist1) , alpha)\n",
    "    loss1 = tf.reduce_mean( tf.maximum(basic_loss1 , 0.0) , axis = 0)\n",
    "    \n",
    "    pos_dist2 = tf.square(anchor - positive)\n",
    "    neg_dist2 = tf.square(anchor - negative)\n",
    "    basic_loss2 = tf.reduce_sum(pos_dist2-neg_dist2)+alpha\n",
    "    loss2 = tf.reduce_sum(tf.maximum(basic_loss2,0.))\n",
    "    \n",
    "    \n",
    "    pos_dist3 = tf.reduce_sum( tf.square(anchor - positive))\n",
    "    neg_dist3 = tf.reduce_sum( tf.square(anchor - negative))\n",
    "    basic_loss3 = tf.add(tf.subtract(pos_dist3, neg_dist3), alpha)\n",
    "    loss3 = tf.maximum(tf.reduce_mean(basic_loss3), 0.0)\n",
    "\n",
    "    return pos_dist1 , pos_dist2 , pos_dist3 , neg_dist1 , neg_dist2,neg_dist3,basic_loss1, basic_loss2,basic_loss3 , loss1 , loss2 , loss3"
   ]
  },
  {
   "cell_type": "code",
   "execution_count": 9,
   "metadata": {},
   "outputs": [],
   "source": [
    "sess =tf.Session()\n",
    "tf.set_random_seed(1)\n",
    "y_pred1 = (tf.random_normal([3, 12], mean=6, stddev=0.1, seed = 1),\n",
    "              tf.random_normal([3, 12], mean=1, stddev=1, seed = 1),\n",
    "              tf.random_normal([3, 12], mean=3, stddev=4, seed = 1))\n",
    "    \n",
    "y_pred2 = (tf.random_normal([3, 12], mean=6, stddev=0.1, seed = 1),\n",
    "              tf.random_normal([3, 12], mean=1, stddev=1, seed = 1),\n",
    "              tf.random_normal([3, 12], mean=3, stddev=4, seed = 1))\n",
    "    \n",
    "y_pred2 = (tf.random_normal([3, 12], mean=6, stddev=0.1, seed = 1),\n",
    "              tf.random_normal([3, 12], mean=1, stddev=1, seed = 1),\n",
    "              tf.random_normal([3, 12], mean=3, stddev=4, seed = 1))"
   ]
  },
  {
   "cell_type": "code",
   "execution_count": null,
   "metadata": {},
   "outputs": [],
   "source": [
    "print()"
   ]
  }
 ],
 "metadata": {
  "kernelspec": {
   "display_name": "Python [default]",
   "language": "python",
   "name": "python3"
  },
  "language_info": {
   "codemirror_mode": {
    "name": "ipython",
    "version": 3
   },
   "file_extension": ".py",
   "mimetype": "text/x-python",
   "name": "python",
   "nbconvert_exporter": "python",
   "pygments_lexer": "ipython3",
   "version": "3.5.4"
  }
 },
 "nbformat": 4,
 "nbformat_minor": 2
}
